{
 "metadata": {
  "name": "",
  "signature": "sha256:54257144fbfdbf20e1446c86c6c4566fbe3eddd87e2586e2ed830868c2ec9173"
 },
 "nbformat": 3,
 "nbformat_minor": 0,
 "worksheets": [
  {
   "cells": [
    {
     "cell_type": "code",
     "collapsed": false,
     "input": [
      "import sys\n",
      "sys.path.append('../src')\n",
      "from popgen import *\n",
      "%matplotlib inline"
     ],
     "language": "python",
     "metadata": {},
     "outputs": [],
     "prompt_number": 1
    },
    {
     "cell_type": "code",
     "collapsed": false,
     "input": [
      "m = SteppingStone(gens=150)\n",
      "m.mig = 0.01\n",
      "m.pop_size = 100\n",
      "m.num_pops_x = 8\n",
      "m.num_msats = 50\n",
      "m.sample_size = 200\n",
      "AnimatedIndividualView(m, PCA(), step=10)\n",
      "m.run()"
     ],
     "language": "python",
     "metadata": {},
     "outputs": [],
     "prompt_number": 2
    },
    {
     "cell_type": "code",
     "collapsed": false,
     "input": [
      "m = SteppingStone(gens=500, two_d=True)\n",
      "m.mig = 0.01\n",
      "m.pop_size = 100\n",
      "m.num_pops_x = 5\n",
      "m.num_pops_y = 3\n",
      "m.num_msats = 50\n",
      "m.sample_size = 200\n",
      "AnimatedIndividualView(m, PCA(), step=20)\n",
      "m.run()"
     ],
     "language": "python",
     "metadata": {},
     "outputs": [],
     "prompt_number": 3
    },
    {
     "cell_type": "code",
     "collapsed": false,
     "input": [],
     "language": "python",
     "metadata": {},
     "outputs": [],
     "prompt_number": 3
    }
   ],
   "metadata": {}
  }
 ]
}